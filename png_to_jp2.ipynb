{
 "cells": [
  {
   "cell_type": "code",
   "execution_count": 2,
   "id": "e2407ad4",
   "metadata": {},
   "outputs": [],
   "source": [
    "from pathlib import Path\n",
    "from multiprocessing import Pool\n",
    "from functools import partial\n",
    "\n",
    "import numpy as np\n",
    "import pandas as pd\n",
    "from tqdm import tqdm\n",
    "from PIL import Image\n",
    "\n",
    "import matplotlib.pyplot as plt\n",
    "# %matplotlib inline"
   ]
  },
  {
   "cell_type": "code",
   "execution_count": 14,
   "id": "2f1a5f4b",
   "metadata": {},
   "outputs": [
    {
     "name": "stdout",
     "output_type": "stream",
     "text": [
      "25658\n"
     ]
    },
    {
     "data": {
      "text/html": [
       "<div>\n",
       "<style scoped>\n",
       "    .dataframe tbody tr th:only-of-type {\n",
       "        vertical-align: middle;\n",
       "    }\n",
       "\n",
       "    .dataframe tbody tr th {\n",
       "        vertical-align: top;\n",
       "    }\n",
       "\n",
       "    .dataframe thead th {\n",
       "        text-align: right;\n",
       "    }\n",
       "</style>\n",
       "<table border=\"1\" class=\"dataframe\">\n",
       "  <thead>\n",
       "    <tr style=\"text-align: right;\">\n",
       "      <th></th>\n",
       "      <th>filename</th>\n",
       "      <th>class</th>\n",
       "      <th>xmin</th>\n",
       "      <th>ymin</th>\n",
       "      <th>xmax</th>\n",
       "      <th>ymax</th>\n",
       "    </tr>\n",
       "  </thead>\n",
       "  <tbody>\n",
       "    <tr>\n",
       "      <th>0</th>\n",
       "      <td>NCP_341_1834_0022.png</td>\n",
       "      <td>2</td>\n",
       "      <td>0</td>\n",
       "      <td>130</td>\n",
       "      <td>512</td>\n",
       "      <td>429</td>\n",
       "    </tr>\n",
       "    <tr>\n",
       "      <th>1</th>\n",
       "      <td>NCP_341_1834_0023.png</td>\n",
       "      <td>2</td>\n",
       "      <td>0</td>\n",
       "      <td>130</td>\n",
       "      <td>512</td>\n",
       "      <td>429</td>\n",
       "    </tr>\n",
       "    <tr>\n",
       "      <th>2</th>\n",
       "      <td>NCP_341_1834_0024.png</td>\n",
       "      <td>2</td>\n",
       "      <td>0</td>\n",
       "      <td>130</td>\n",
       "      <td>512</td>\n",
       "      <td>429</td>\n",
       "    </tr>\n",
       "    <tr>\n",
       "      <th>3</th>\n",
       "      <td>NCP_341_1834_0029.png</td>\n",
       "      <td>2</td>\n",
       "      <td>0</td>\n",
       "      <td>128</td>\n",
       "      <td>512</td>\n",
       "      <td>430</td>\n",
       "    </tr>\n",
       "    <tr>\n",
       "      <th>4</th>\n",
       "      <td>NCP_341_1834_0030.png</td>\n",
       "      <td>2</td>\n",
       "      <td>0</td>\n",
       "      <td>128</td>\n",
       "      <td>512</td>\n",
       "      <td>430</td>\n",
       "    </tr>\n",
       "  </tbody>\n",
       "</table>\n",
       "</div>"
      ],
      "text/plain": [
       "                filename  class  xmin  ymin  xmax  ymax\n",
       "0  NCP_341_1834_0022.png      2     0   130   512   429\n",
       "1  NCP_341_1834_0023.png      2     0   130   512   429\n",
       "2  NCP_341_1834_0024.png      2     0   130   512   429\n",
       "3  NCP_341_1834_0029.png      2     0   128   512   430\n",
       "4  NCP_341_1834_0030.png      2     0   128   512   430"
      ]
     },
     "execution_count": 14,
     "metadata": {},
     "output_type": "execute_result"
    }
   ],
   "source": [
    "DATASET_PATH = Path(\"/media\") / \"storage\" / \"COVIDxCT\"\n",
    "SPLIT = \"test\"\n",
    "\n",
    "df = pd.read_csv(DATASET_PATH / f\"{SPLIT}_COVIDx_CT-2A.txt\",\n",
    "                 delimiter=\" \",\n",
    "                 names=[\"filename\", \"class\", \"xmin\", \"ymin\",\n",
    "                        \"xmax\", \"ymax\"])\n",
    "# train_df = train_df.sample(frac=1., random_state=1000).reset_index(drop=True)\n",
    "filenames = df[\"filename\"].to_numpy()\n",
    "filepaths = [DATASET_PATH / \"2A_images\" / filename for filename in filenames]\n",
    "print(len(filenames))\n",
    "df.head()"
   ]
  },
  {
   "cell_type": "code",
   "execution_count": 15,
   "id": "881f0d06-aedc-4c02-a219-6d25bb1c8493",
   "metadata": {},
   "outputs": [
    {
     "name": "stderr",
     "output_type": "stream",
     "text": [
      "100%|██████████| 25658/25658 [06:36<00:00, 64.78it/s] \n"
     ]
    }
   ],
   "source": [
    "def convert_to_jp2(filepath: str, output_dir: str):\n",
    "    filepath = Path(filepath)\n",
    "    filename = filepath.stem\n",
    "    img = Image.open(filepath)\n",
    "\n",
    "    filepath = Path(output_dir) / f\"{filename}.jp2\"\n",
    "    img.save(str(filepath))\n",
    "\n",
    "\n",
    "# img_dir = DATASET_PATH / \"2A_images\"\n",
    "img_dir = \"/home/hoangtnm/Downloads/test\"\n",
    "\n",
    "with Pool(processes=4) as pool:\n",
    "    with tqdm(total=len(filenames)) as pbar:\n",
    "        func = partial(convert_to_jp2, output_dir=img_dir)\n",
    "        for i, _ in enumerate(pool.imap_unordered(func, filepaths)):\n",
    "            pbar.update()"
   ]
  },
  {
   "cell_type": "code",
   "execution_count": null,
   "id": "f8390a3d",
   "metadata": {},
   "outputs": [],
   "source": [
    "for i in range(1):\n",
    "    data = df.iloc[0]\n",
    "    filepath = Path(DATASET_PATH) / \"2A_images\" / data[\"filename\"]\n",
    "    f = open(filepath, \"rb\")\n",
    "    xmin, ymin = data[\"xmin\"], data[\"ymin\"]\n",
    "    xmax, ymax = data[\"xmax\"], data[\"ymax\"]\n",
    "\n",
    "    img = Image.open(filepath).convert(\"RGB\")\n",
    "    # img = img.crop((xmin, ymin, xmax, ymax))\n",
    "    img_np = np.array(img)\n",
    "    \n",
    "    img.save(\"test.jp2\")\n",
    "    img_jp2 = Image.open(\"test.jp2\")\n",
    "    img_jp2_np = np.array(img_jp2)\n",
    "    \n",
    "    if not np.all(img_np==img_jp2_np):\n",
    "        print(i)"
   ]
  },
  {
   "cell_type": "code",
   "execution_count": null,
   "id": "667475a6",
   "metadata": {},
   "outputs": [],
   "source": [
    "plt.imshow(img)\n",
    "# plt.imshow(img_np)"
   ]
  }
 ],
 "metadata": {
  "kernelspec": {
   "display_name": "Python 3",
   "language": "python",
   "name": "python3"
  },
  "language_info": {
   "codemirror_mode": {
    "name": "ipython",
    "version": 3
   },
   "file_extension": ".py",
   "mimetype": "text/x-python",
   "name": "python",
   "nbconvert_exporter": "python",
   "pygments_lexer": "ipython3",
   "version": "3.8.8"
  }
 },
 "nbformat": 4,
 "nbformat_minor": 5
}
