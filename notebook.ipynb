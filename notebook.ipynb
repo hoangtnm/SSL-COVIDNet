{
 "cells": [
  {
   "cell_type": "code",
   "execution_count": 1,
   "id": "8616110a",
   "metadata": {},
   "outputs": [],
   "source": [
    "import numpy as np\n",
    "# import cv2\n",
    "\n",
    "from pathlib import Path\n",
    "from PIL import Image\n",
    "import matplotlib.pyplot as plt\n",
    "from datasets import UnlabeledCOVIDxCT\n",
    "\n",
    "%matplotlib inline"
   ]
  },
  {
   "cell_type": "code",
   "execution_count": 14,
   "id": "b393559f",
   "metadata": {},
   "outputs": [],
   "source": [
    "import pytorch_lightning as pl\n",
    "from pl_bolts.models.self_supervised import Moco_v2\n",
    "from pl_bolts.models.self_supervised.moco.transforms import \\\n",
    "    Moco2TrainImagenetTransforms, Moco2EvalImagenetTransforms\n",
    "from pytorch_lightning.callbacks import EarlyStopping, ModelCheckpoint\n",
    "from torch.utils.data import Dataset, DataLoader, WeightedRandomSampler\n",
    "\n",
    "from datasets import SSLCOVIDxCT"
   ]
  },
  {
   "cell_type": "code",
   "execution_count": 3,
   "id": "79ed53a4",
   "metadata": {
    "tags": []
   },
   "outputs": [],
   "source": [
    "root = Path(\"images\") / \"samples\"\n",
    "imgs = list(root.glob(\"*.png\"))\n",
    "\n",
    "img_filepath = imgs[0]\n",
    "img = Image.open(img_filepath)"
   ]
  },
  {
   "cell_type": "code",
   "execution_count": 4,
   "id": "45b9f258",
   "metadata": {
    "tags": []
   },
   "outputs": [],
   "source": [
    "# dataset = UnlabeledCOVIDxCT(\"/media/storage/COVIDxCT\")\n",
    "datamodule = SSLCOVIDxCT(data_dir=Path(\"/media\") / \"storage\" / \"COVIDxCT\",\n",
    "                         num_workers=2)\n",
    "datamodule.train_transforms = Moco2TrainImagenetTransforms(height=224)\n",
    "datamodule.val_transforms = Moco2EvalImagenetTransforms(height=224)\n",
    "datamodule.setup()\n",
    "\n",
    "train_dataloader = datamodule.train_dataloader()\n",
    "val_dataloader = datamodule.val_dataloader()"
   ]
  },
  {
   "cell_type": "code",
   "execution_count": 5,
   "id": "4ef6ffa4",
   "metadata": {},
   "outputs": [],
   "source": [
    "for batch in train_dataloader:\n",
    "    (img_1, img_2), label = batch\n",
    "    # plt.imshow(np.asarray(x)\n",
    "    break"
   ]
  },
  {
   "cell_type": "code",
   "execution_count": 3,
   "id": "b2ea4111",
   "metadata": {},
   "outputs": [
    {
     "data": {
      "text/html": [
       "<div>\n",
       "<style scoped>\n",
       "    .dataframe tbody tr th:only-of-type {\n",
       "        vertical-align: middle;\n",
       "    }\n",
       "\n",
       "    .dataframe tbody tr th {\n",
       "        vertical-align: top;\n",
       "    }\n",
       "\n",
       "    .dataframe thead th {\n",
       "        text-align: right;\n",
       "    }\n",
       "</style>\n",
       "<table border=\"1\" class=\"dataframe\">\n",
       "  <thead>\n",
       "    <tr style=\"text-align: right;\">\n",
       "      <th></th>\n",
       "      <th>filename</th>\n",
       "      <th>class</th>\n",
       "      <th>xmin</th>\n",
       "      <th>ymin</th>\n",
       "      <th>xmax</th>\n",
       "      <th>ymax</th>\n",
       "    </tr>\n",
       "  </thead>\n",
       "  <tbody>\n",
       "    <tr>\n",
       "      <th>0</th>\n",
       "      <td>CP_1216_3434_0256.png</td>\n",
       "      <td>1</td>\n",
       "      <td>57</td>\n",
       "      <td>127</td>\n",
       "      <td>483</td>\n",
       "      <td>478</td>\n",
       "    </tr>\n",
       "    <tr>\n",
       "      <th>1</th>\n",
       "      <td>CP_1459_3997_0030.png</td>\n",
       "      <td>1</td>\n",
       "      <td>30</td>\n",
       "      <td>105</td>\n",
       "      <td>488</td>\n",
       "      <td>414</td>\n",
       "    </tr>\n",
       "    <tr>\n",
       "      <th>2</th>\n",
       "      <td>Normal_1735_1030_0030.png</td>\n",
       "      <td>0</td>\n",
       "      <td>21</td>\n",
       "      <td>87</td>\n",
       "      <td>499</td>\n",
       "      <td>385</td>\n",
       "    </tr>\n",
       "    <tr>\n",
       "      <th>3</th>\n",
       "      <td>CP_595_2957_0256.png</td>\n",
       "      <td>1</td>\n",
       "      <td>0</td>\n",
       "      <td>0</td>\n",
       "      <td>512</td>\n",
       "      <td>394</td>\n",
       "    </tr>\n",
       "    <tr>\n",
       "      <th>4</th>\n",
       "      <td>CP_2452_2931_0224.png</td>\n",
       "      <td>1</td>\n",
       "      <td>0</td>\n",
       "      <td>80</td>\n",
       "      <td>512</td>\n",
       "      <td>424</td>\n",
       "    </tr>\n",
       "  </tbody>\n",
       "</table>\n",
       "</div>"
      ],
      "text/plain": [
       "                    filename  class  xmin  ymin  xmax  ymax\n",
       "0      CP_1216_3434_0256.png      1    57   127   483   478\n",
       "1      CP_1459_3997_0030.png      1    30   105   488   414\n",
       "2  Normal_1735_1030_0030.png      0    21    87   499   385\n",
       "3       CP_595_2957_0256.png      1     0     0   512   394\n",
       "4      CP_2452_2931_0224.png      1     0    80   512   424"
      ]
     },
     "execution_count": 3,
     "metadata": {},
     "output_type": "execute_result"
    }
   ],
   "source": [
    "df = UnlabeledCOVIDxCT(\"/media/storage/COVIDxCT\").df\n",
    "df.head()"
   ]
  },
  {
   "cell_type": "code",
   "execution_count": 15,
   "id": "a2bc3943",
   "metadata": {},
   "outputs": [
    {
     "name": "stdout",
     "output_type": "stream",
     "text": [
      "<class 'numpy.ndarray'>\n",
      "\n",
      "[3.92218387e-05 3.92218387e-05 3.92218387e-05 ... 3.92218387e-05\n",
      " 3.92218387e-05 2.77808645e-05]\n"
     ]
    }
   ],
   "source": [
    "labels = df.loc[:, \"class\"]\n",
    "counts = labels.value_counts()\n",
    "weights = 1. / counts\n",
    "weights = weights[labels].to_numpy()\n",
    "print(type(weights))\n",
    "print()\n",
    "print(weights[df[\"class\"]])"
   ]
  },
  {
   "cell_type": "code",
   "execution_count": 25,
   "id": "f3846f62",
   "metadata": {},
   "outputs": [
    {
     "data": {
      "text/plain": [
       "[48491, 111483, 64102, 107060, 136551, 129786, 45829, 122363, 97265, 80863]"
      ]
     },
     "execution_count": 25,
     "metadata": {},
     "output_type": "execute_result"
    }
   ],
   "source": [
    "sampler = WeightedRandomSampler(weights, num_samples=len(df))\n",
    "list(sampler)[:10]"
   ]
  },
  {
   "cell_type": "code",
   "execution_count": null,
   "id": "a3cb4c67",
   "metadata": {},
   "outputs": [],
   "source": []
  }
 ],
 "metadata": {
  "kernelspec": {
   "display_name": "Python 3",
   "language": "python",
   "name": "python3"
  },
  "language_info": {
   "codemirror_mode": {
    "name": "ipython",
    "version": 3
   },
   "file_extension": ".py",
   "mimetype": "text/x-python",
   "name": "python",
   "nbconvert_exporter": "python",
   "pygments_lexer": "ipython3",
   "version": "3.8.8"
  }
 },
 "nbformat": 4,
 "nbformat_minor": 5
}
